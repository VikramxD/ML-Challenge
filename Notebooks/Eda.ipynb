{
 "cells": [
  {
   "cell_type": "markdown",
   "metadata": {},
   "source": [
    "<center><h2>Amazon ML Challenge Exploratory Data Analysis</h2></center>"
   ]
  },
  {
   "cell_type": "markdown",
   "metadata": {},
   "source": [
    "\n",
    "<h4>\n",
    "You will have access to the product title, description, bullet points, product type ID, and product length for 2.2 million products to train and test your submissions. Note that there is some noise in the data.\n",
    "</h4>\n",
    "\n",
    " <b>score = max( 0 , 100*(1-metrics.mean_absolute_percentage_error(actual,predicted)))</b>\n"
   ]
  },
  {
   "cell_type": "markdown",
   "metadata": {},
   "source": [
    " `Imports`"
   ]
  },
  {
   "cell_type": "code",
   "execution_count": 8,
   "metadata": {},
   "outputs": [],
   "source": [
    "import pandas as pd\n",
    "import numpy as np \n",
    "import seaborn as sns\n",
    "import matplotlib.pyplot as plt\n",
    "\n"
   ]
  },
  {
   "cell_type": "code",
   "execution_count": 4,
   "metadata": {},
   "outputs": [],
   "source": [
    "df = pd.read_csv('/home/amazon_ml_challenge/dataset/train.csv') "
   ]
  },
  {
   "cell_type": "markdown",
   "metadata": {},
   "source": [
    "`Drop all rows with NaN values in the DESCRIPTION and BULLET_POINTS columns separately`"
   ]
  },
  {
   "cell_type": "code",
   "execution_count": 5,
   "metadata": {},
   "outputs": [],
   "source": [
    "\n",
    "df.dropna(subset=['DESCRIPTION', 'BULLET_POINTS'], inplace=True)\n"
   ]
  },
  {
   "cell_type": "markdown",
   "metadata": {},
   "source": [
    " `Sort the data in ascending order of product length`"
   ]
  },
  {
   "cell_type": "code",
   "execution_count": 6,
   "metadata": {},
   "outputs": [
    {
     "data": {
      "text/html": [
       "<div>\n",
       "<style scoped>\n",
       "    .dataframe tbody tr th:only-of-type {\n",
       "        vertical-align: middle;\n",
       "    }\n",
       "\n",
       "    .dataframe tbody tr th {\n",
       "        vertical-align: top;\n",
       "    }\n",
       "\n",
       "    .dataframe thead th {\n",
       "        text-align: right;\n",
       "    }\n",
       "</style>\n",
       "<table border=\"1\" class=\"dataframe\">\n",
       "  <thead>\n",
       "    <tr style=\"text-align: right;\">\n",
       "      <th></th>\n",
       "      <th>PRODUCT_ID</th>\n",
       "      <th>TITLE</th>\n",
       "      <th>BULLET_POINTS</th>\n",
       "      <th>DESCRIPTION</th>\n",
       "      <th>PRODUCT_TYPE_ID</th>\n",
       "      <th>PRODUCT_LENGTH</th>\n",
       "    </tr>\n",
       "  </thead>\n",
       "  <tbody>\n",
       "    <tr>\n",
       "      <th>238700</th>\n",
       "      <td>2263460</td>\n",
       "      <td>TOPBATHY 1 Set Ladle Colander Spoon Stainless ...</td>\n",
       "      <td>[gravy food fat separator They will bring you ...</td>\n",
       "      <td>&lt;b&gt; Features&lt;/b&gt;&lt;br/&gt;&lt;br/&gt; Color: Silver&lt;br/&gt; ...</td>\n",
       "      <td>11601</td>\n",
       "      <td>1.774080e+08</td>\n",
       "    </tr>\n",
       "    <tr>\n",
       "      <th>784310</th>\n",
       "      <td>1965723</td>\n",
       "      <td>Dinewell Wooden Pizza Plate/Racket/Bat/Board/G...</td>\n",
       "      <td>[BEAUTIFUL: Natural acacia wood is designed to...</td>\n",
       "      <td>Everybody has their own sense of style. Which ...</td>\n",
       "      <td>1393</td>\n",
       "      <td>2.249280e+08</td>\n",
       "    </tr>\n",
       "    <tr>\n",
       "      <th>1082317</th>\n",
       "      <td>2746964</td>\n",
       "      <td>Shri Rajeshwar Medical Monisons Pain Balm, 100...</td>\n",
       "      <td>Ingredients: Pudinah Ka Phool, Wintergreen, Ni...</td>\n",
       "      <td>Monisons Pain Balm is an ointment made using h...</td>\n",
       "      <td>12069</td>\n",
       "      <td>3.937010e+08</td>\n",
       "    </tr>\n",
       "    <tr>\n",
       "      <th>1584254</th>\n",
       "      <td>2526801</td>\n",
       "      <td>Ranrox Combo Weight Lifting Rods(Curl Rod +Str...</td>\n",
       "      <td>[Benefits: Build and engage muscles in your ar...</td>\n",
       "      <td>Ranrox Weight Lifting Rod Chrome Plated Steel ...</td>\n",
       "      <td>4252</td>\n",
       "      <td>4.803152e+08</td>\n",
       "    </tr>\n",
       "    <tr>\n",
       "      <th>888442</th>\n",
       "      <td>840563</td>\n",
       "      <td>WinCraft NCAA Ohio State University Multi-Use ...</td>\n",
       "      <td>[Officially licensed product,Quality materials...</td>\n",
       "      <td>Ohio State Ultra Decal Removable Vinyl Sticker...</td>\n",
       "      <td>6030</td>\n",
       "      <td>1.885801e+09</td>\n",
       "    </tr>\n",
       "  </tbody>\n",
       "</table>\n",
       "</div>"
      ],
      "text/plain": [
       "         PRODUCT_ID                                              TITLE  \\\n",
       "238700      2263460  TOPBATHY 1 Set Ladle Colander Spoon Stainless ...   \n",
       "784310      1965723  Dinewell Wooden Pizza Plate/Racket/Bat/Board/G...   \n",
       "1082317     2746964  Shri Rajeshwar Medical Monisons Pain Balm, 100...   \n",
       "1584254     2526801  Ranrox Combo Weight Lifting Rods(Curl Rod +Str...   \n",
       "888442       840563  WinCraft NCAA Ohio State University Multi-Use ...   \n",
       "\n",
       "                                             BULLET_POINTS  \\\n",
       "238700   [gravy food fat separator They will bring you ...   \n",
       "784310   [BEAUTIFUL: Natural acacia wood is designed to...   \n",
       "1082317  Ingredients: Pudinah Ka Phool, Wintergreen, Ni...   \n",
       "1584254  [Benefits: Build and engage muscles in your ar...   \n",
       "888442   [Officially licensed product,Quality materials...   \n",
       "\n",
       "                                               DESCRIPTION  PRODUCT_TYPE_ID  \\\n",
       "238700   <b> Features</b><br/><br/> Color: Silver<br/> ...            11601   \n",
       "784310   Everybody has their own sense of style. Which ...             1393   \n",
       "1082317  Monisons Pain Balm is an ointment made using h...            12069   \n",
       "1584254  Ranrox Weight Lifting Rod Chrome Plated Steel ...             4252   \n",
       "888442   Ohio State Ultra Decal Removable Vinyl Sticker...             6030   \n",
       "\n",
       "         PRODUCT_LENGTH  \n",
       "238700     1.774080e+08  \n",
       "784310     2.249280e+08  \n",
       "1082317    3.937010e+08  \n",
       "1584254    4.803152e+08  \n",
       "888442     1.885801e+09  "
      ]
     },
     "execution_count": 6,
     "metadata": {},
     "output_type": "execute_result"
    }
   ],
   "source": [
    "\n",
    "df_sorted = df.sort_values(by='PRODUCT_LENGTH')\n",
    "df_sorted.tail()\n"
   ]
  },
  {
   "cell_type": "markdown",
   "metadata": {},
   "source": [
    "`Remove Special Characters and Preprocess Text`"
   ]
  },
  {
   "cell_type": "code",
   "execution_count": 11,
   "metadata": {},
   "outputs": [],
   "source": [
    "import re\n",
    "from bs4 import BeautifulSoup\n",
    "\n",
    "# Define a function to clean the text data\n",
    "def clean_text(text):\n",
    "    # Remove HTML tags from the text\n",
    "    text = BeautifulSoup(text, \"html.parser\").get_text()\n",
    "    # Remove special characters and emojis using regular expressions\n",
    "    if bool(re.search('[^a-zA-Z0-9 \\n]+', text)):\n",
    "        text = re.sub(r'[^\\w\\s]+|[\\d]+|[\\n]+|\\_+', '', text)\n",
    "    return text.lower()\n",
    "\n",
    "# Clean the text data in the DESCRIPTION column\n",
    "df['DESCRIPTION'] = df['DESCRIPTION'].apply(clean_text)\n",
    "\n",
    "# Clean the text data in the BULLET_POINTS column\n",
    "df['BULLET_POINTS'] = df['BULLET_POINTS'].apply(lambda x: [clean_text(bp) if bool(re.search('[^a-zA-Z0-9 \\n]+', bp)) else bp for bp in x])\n",
    "\n"
   ]
  },
  {
   "cell_type": "code",
   "execution_count": 13,
   "metadata": {},
   "outputs": [
    {
     "data": {
      "text/plain": [
       "2          specifications color red material aluminium vo...\n",
       "3          aishah womens lycra cotton ankel leggings bran...\n",
       "5          hins brings you the most elegant looking pot w...\n",
       "7          aluminum foil stickersgood kitchen helper for ...\n",
       "9          transform your home workplace or hotel room in...\n",
       "                                 ...                        \n",
       "2249686    cocomiiwe transform amazing ideas and advanced...\n",
       "2249689    this extra long tall tshirt will be your favor...\n",
       "2249694    brand xvieonr  product name fashion cute brooc...\n",
       "2249695    wall clocks are very attractive in looks and e...\n",
       "2249697    skyjacker csp component box for pncpk lift kit...\n",
       "Name: DESCRIPTION, Length: 1038460, dtype: object"
      ]
     },
     "execution_count": 13,
     "metadata": {},
     "output_type": "execute_result"
    }
   ],
   "source": [
    "df['DESCRIPTION']"
   ]
  },
  {
   "cell_type": "code",
   "execution_count": 14,
   "metadata": {},
   "outputs": [
    {
     "data": {
      "text/html": [
       "<div>\n",
       "<style scoped>\n",
       "    .dataframe tbody tr th:only-of-type {\n",
       "        vertical-align: middle;\n",
       "    }\n",
       "\n",
       "    .dataframe tbody tr th {\n",
       "        vertical-align: top;\n",
       "    }\n",
       "\n",
       "    .dataframe thead th {\n",
       "        text-align: right;\n",
       "    }\n",
       "</style>\n",
       "<table border=\"1\" class=\"dataframe\">\n",
       "  <thead>\n",
       "    <tr style=\"text-align: right;\">\n",
       "      <th></th>\n",
       "      <th>PRODUCT_ID</th>\n",
       "      <th>TITLE</th>\n",
       "      <th>BULLET_POINTS</th>\n",
       "      <th>DESCRIPTION</th>\n",
       "      <th>PRODUCT_TYPE_ID</th>\n",
       "      <th>PRODUCT_LENGTH</th>\n",
       "    </tr>\n",
       "  </thead>\n",
       "  <tbody>\n",
       "    <tr>\n",
       "      <th>2</th>\n",
       "      <td>2765088</td>\n",
       "      <td>PRIKNIK Horn Red Electric Air Horn Compressor ...</td>\n",
       "      <td>[, L, o, u, d,  , D, u, a, l,  , T, o, n, e,  ...</td>\n",
       "      <td>specifications color red material aluminium vo...</td>\n",
       "      <td>7537</td>\n",
       "      <td>748.031495</td>\n",
       "    </tr>\n",
       "    <tr>\n",
       "      <th>3</th>\n",
       "      <td>1594019</td>\n",
       "      <td>ALISHAH Women's Cotton Ankle Length Leggings C...</td>\n",
       "      <td>[, M, a, d, e,  , B, y,  , 9, 5, , c, o, t, t,...</td>\n",
       "      <td>aishah womens lycra cotton ankel leggings bran...</td>\n",
       "      <td>2996</td>\n",
       "      <td>787.401574</td>\n",
       "    </tr>\n",
       "    <tr>\n",
       "      <th>5</th>\n",
       "      <td>2152929</td>\n",
       "      <td>HINS Metal Bucket Shape Plant Pot for Indoor &amp;...</td>\n",
       "      <td>[, S, i, m, p, l, e,  , a, n, d,  , e, l, e, g...</td>\n",
       "      <td>hins brings you the most elegant looking pot w...</td>\n",
       "      <td>5725</td>\n",
       "      <td>950.000000</td>\n",
       "    </tr>\n",
       "    <tr>\n",
       "      <th>7</th>\n",
       "      <td>2026580</td>\n",
       "      <td>Delavala Self Adhesive Kitchen Backsplash Wall...</td>\n",
       "      <td>[, H, I, G, H,  , Q, U, A, L, I, T, Y,  , P, V...</td>\n",
       "      <td>aluminum foil stickersgood kitchen helper for ...</td>\n",
       "      <td>6030</td>\n",
       "      <td>984.251967</td>\n",
       "    </tr>\n",
       "    <tr>\n",
       "      <th>9</th>\n",
       "      <td>2998633</td>\n",
       "      <td>Hexwell Essential oil for Home Fragrance Oil A...</td>\n",
       "      <td>[, 1, 0, 0, ,  , P, u, r, e,  , A, n, d,  , N,...</td>\n",
       "      <td>transform your home workplace or hotel room in...</td>\n",
       "      <td>8201</td>\n",
       "      <td>393.700787</td>\n",
       "    </tr>\n",
       "  </tbody>\n",
       "</table>\n",
       "</div>"
      ],
      "text/plain": [
       "   PRODUCT_ID                                              TITLE  \\\n",
       "2     2765088  PRIKNIK Horn Red Electric Air Horn Compressor ...   \n",
       "3     1594019  ALISHAH Women's Cotton Ankle Length Leggings C...   \n",
       "5     2152929  HINS Metal Bucket Shape Plant Pot for Indoor &...   \n",
       "7     2026580  Delavala Self Adhesive Kitchen Backsplash Wall...   \n",
       "9     2998633  Hexwell Essential oil for Home Fragrance Oil A...   \n",
       "\n",
       "                                       BULLET_POINTS  \\\n",
       "2  [, L, o, u, d,  , D, u, a, l,  , T, o, n, e,  ...   \n",
       "3  [, M, a, d, e,  , B, y,  , 9, 5, , c, o, t, t,...   \n",
       "5  [, S, i, m, p, l, e,  , a, n, d,  , e, l, e, g...   \n",
       "7  [, H, I, G, H,  , Q, U, A, L, I, T, Y,  , P, V...   \n",
       "9  [, 1, 0, 0, ,  , P, u, r, e,  , A, n, d,  , N,...   \n",
       "\n",
       "                                         DESCRIPTION  PRODUCT_TYPE_ID  \\\n",
       "2  specifications color red material aluminium vo...             7537   \n",
       "3  aishah womens lycra cotton ankel leggings bran...             2996   \n",
       "5  hins brings you the most elegant looking pot w...             5725   \n",
       "7  aluminum foil stickersgood kitchen helper for ...             6030   \n",
       "9  transform your home workplace or hotel room in...             8201   \n",
       "\n",
       "   PRODUCT_LENGTH  \n",
       "2      748.031495  \n",
       "3      787.401574  \n",
       "5      950.000000  \n",
       "7      984.251967  \n",
       "9      393.700787  "
      ]
     },
     "execution_count": 14,
     "metadata": {},
     "output_type": "execute_result"
    }
   ],
   "source": [
    "df.head()"
   ]
  }
 ],
 "metadata": {
  "kernelspec": {
   "display_name": "base",
   "language": "python",
   "name": "python3"
  },
  "language_info": {
   "codemirror_mode": {
    "name": "ipython",
    "version": 3
   },
   "file_extension": ".py",
   "mimetype": "text/x-python",
   "name": "python",
   "nbconvert_exporter": "python",
   "pygments_lexer": "ipython3",
   "version": "3.8.12"
  },
  "orig_nbformat": 4,
  "vscode": {
   "interpreter": {
    "hash": "d4d1e4263499bec80672ea0156c357c1ee493ec2b1c70f0acce89fc37c4a6abe"
   }
  }
 },
 "nbformat": 4,
 "nbformat_minor": 2
}
